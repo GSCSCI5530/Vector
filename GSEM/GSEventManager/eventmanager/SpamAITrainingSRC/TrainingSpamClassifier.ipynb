{
 "cells": [
  {
   "cell_type": "code",
   "execution_count": 50,
   "metadata": {},
   "outputs": [
    {
     "name": "stdout",
     "output_type": "stream",
     "text": [
      "(1956,)\n",
      "(1956, 4625)\n",
      "0.901840490797546\n",
      "0.902708855956321\n",
      "0.9005808467361447\n",
      "Trained in 0.07995247840881348\n",
      "[[476  39]\n",
      " [ 57 406]]\n",
      "[0.         0.07572816 1.        ]\n",
      "[1]\n"
     ]
    }
   ],
   "source": [
    "import matplotlib.pyplot as plt\n",
    "import numpy as np\n",
    "import re\n",
    "from random import randint\n",
    "import pickle\n",
    "import time\n",
    "\n",
    "from nltk.corpus import stopwords\n",
    "import pandas as pd\n",
    "\n",
    "from sklearn.metrics import roc_curve, auc\n",
    "from sklearn.feature_extraction.text import TfidfVectorizer\n",
    "from sklearn.model_selection import train_test_split\n",
    "from sklearn import naive_bayes\n",
    "from sklearn.metrics import precision_score, recall_score, confusion_matrix\n",
    "\n",
    "startTime = time.time()\n",
    "stopset = set(stopwords.words('english'))\n",
    "vectorizer = TfidfVectorizer(use_idf=True, lowercase=True, strip_accents='ascii', stop_words=stopset, smooth_idf = True)\n",
    "trainingData = pd.read_csv('spam.csv', encoding='latin1')\n",
    "sms = trainingData[\"CONTENT\"]\n",
    "classification = trainingData[\"CLASS\"]\n",
    "y = classification\n",
    "x = vectorizer.fit_transform(sms)\n",
    "print(y.shape)\n",
    "print(x.shape)\n",
    "\n",
    "xTrain, xTest, yTrain, yTest = train_test_split(x, y, random_state=randint(0, 100), train_size=0.5, test_size=0.5)\n",
    "classifier = naive_bayes.MultinomialNB()\n",
    "fit = classifier.fit(xTrain, yTrain)\n",
    "pickle.dump(classifier, open(\"spamPickle.pkl\", \"wb\"))\n",
    "\n",
    "\n",
    "yPrediction = classifier.predict(xTest)\n",
    "print(classifier.score(xTest, yTest))\n",
    "print(precision_score(y_true=yTest, y_pred=yPrediction, average='macro'))\n",
    "print(recall_score(y_true=yTest, y_pred=yPrediction, average='macro'))\n",
    "print(\"Trained in\", time.time() - startTime)\n",
    "\n",
    "yPredBin = []\n",
    "yTesBin = []\n",
    "for element in yPrediction:\n",
    "    if element == 0:\n",
    "        yPredBin.append(1)\n",
    "    else:\n",
    "        yPredBin.append(0)\n",
    "for element in yTest:\n",
    "    if element == 0:\n",
    "        yTesBin.append(1)\n",
    "    else:\n",
    "        yTesBin.append(0)\n",
    "\n",
    "print(confusion_matrix(yTesBin, yPredBin))\n",
    "fpr, tpr, thresholds = roc_curve(yTesBin, yPredBin)\n",
    "print(fpr)\n",
    "\n",
    "print(classifier.predict(vectorizer.transform(np.array([\"hey what's up?\"]))))\n"
   ]
  },
  {
   "cell_type": "code",
   "execution_count": 53,
   "metadata": {},
   "outputs": [
    {
     "name": "stdout",
     "output_type": "stream",
     "text": [
      "[1]\n"
     ]
    }
   ],
   "source": [
    "classifier = pickle.load(open(\"spamPickle.pkl\", 'rb'))\n",
    "print(classifier.predict(vectorizer.transform(np.array([\"go to this link here to find out how to lose weight\"]))))"
   ]
  },
  {
   "cell_type": "code",
   "execution_count": null,
   "metadata": {},
   "outputs": [],
   "source": []
  }
 ],
 "metadata": {
  "kernelspec": {
   "display_name": "Python 3",
   "language": "python",
   "name": "python3"
  },
  "language_info": {
   "codemirror_mode": {
    "name": "ipython",
    "version": 3
   },
   "file_extension": ".py",
   "mimetype": "text/x-python",
   "name": "python",
   "nbconvert_exporter": "python",
   "pygments_lexer": "ipython3",
   "version": "3.6.7"
  }
 },
 "nbformat": 4,
 "nbformat_minor": 2
}
